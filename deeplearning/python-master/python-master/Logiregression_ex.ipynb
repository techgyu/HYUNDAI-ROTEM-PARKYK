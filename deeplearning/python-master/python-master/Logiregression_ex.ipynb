{
 "cells": [
  {
   "cell_type": "code",
   "execution_count": 1,
   "metadata": {},
   "outputs": [],
   "source": [
    "from sklearn import datasets\n",
    "from sklearn.model_selection import train_test_split\n",
    "from sklearn.preprocessing import StandardScaler\n",
    "from sklearn.metrics import accuracy_score\n",
    "from sklearn.linear_model.logistic import LogisticRegression\n",
    "import pandas as pd"
   ]
  },
  {
   "cell_type": "code",
   "execution_count": 3,
   "metadata": {},
   "outputs": [
    {
     "name": "stdout",
     "output_type": "stream",
     "text": [
      "(105, 2) (45, 2)\n"
     ]
    }
   ],
   "source": [
    "iris = datasets.load_iris()\n",
    "x = iris.data[:, [2,3]]\n",
    "y = iris.target\n",
    "x_train, x_test, y_train, y_test = train_test_split(x, y, test_size=0.3, random_state=0)\n",
    "print(x_train.shape, x_test.shape) # (105, 2) (45, 2)\n",
    "\n",
    "sc = StandardScaler()\n",
    "sc.fit(x_train)\n",
    "x_train_std = sc.transform(x_train)\n",
    "x_test_std = sc.transform(x_test)\n",
    "#print(x_train_std)\n",
    "# [[-0.18295039 -0.29145882]\n",
    "#  [ 0.93066067  0.73721938]\n",
    "#  [ 1.04202177  1.6373128 ]"
   ]
  },
  {
   "cell_type": "code",
   "execution_count": 4,
   "metadata": {},
   "outputs": [
    {
     "name": "stdout",
     "output_type": "stream",
     "text": [
      "추정값 :  [2 1 0 2 0 2 0 1 1 1 2 1 1 1 1 0 1 1 0 0 2 1 0 0 2 0 0 1 1 0 2 1 0 2 2 1 0\n",
      " 2 1 1 2 0 2 0 0]\n",
      "실제값 :  [2 1 0 2 0 2 0 1 1 1 2 1 1 1 1 0 1 1 0 0 2 1 0 0 2 0 0 1 1 0 2 1 0 2 2 1 0\n",
      " 1 1 1 2 0 2 0 0]\n",
      "45 1\n",
      "col_0   0   1   2\n",
      "row_0            \n",
      "0      16   0   0\n",
      "1       0  17   1\n",
      "2       0   0  11\n",
      "0.9777777777777777\n",
      "0.9777777777777777\n"
     ]
    }
   ],
   "source": [
    "ml = LogisticRegression(C = 1000.0, random_state=0)\n",
    "result = ml.fit(x_train_std, y_train)\n",
    "y_pred = ml.predict(x_test_std)\n",
    "print('추정값 : ', y_pred)\n",
    "print('실제값 : ', y_test)\n",
    "print(len(y_test), (y_test != y_pred).sum())\n",
    "\n",
    "print(pd.crosstab(y_test, y_pred))\n",
    "print((16 + 17 + 11) / len(y_test))\n",
    "print(accuracy_score(y_test, y_pred))"
   ]
  },
  {
   "cell_type": "code",
   "execution_count": 5,
   "metadata": {},
   "outputs": [
    {
     "data": {
      "image/png": "[encoded data removed]",
      "text/plain": [
       "<Figure size 432x288 with 1 Axes>"
      ]
     },
     "metadata": {
      "needs_background": "light"
     },
     "output_type": "display_data"
    }
   ],
   "source": [
    "import numpy as np\n",
    "import matplotlib.pyplot as plt\n",
    "import matplotlib\n",
    "from matplotlib.colors import ListedColormap\n",
    "from matplotlib import font_manager, rc\n",
    "%matplotlib inline\n",
    "font_name = font_manager.FontProperties(fname=\"c:/Windows/Fonts/malgun.ttf\").get_name()\n",
    "rc('font', family=font_name)  #그래프에서 한글깨짐 방지용\n",
    "\n",
    "matplotlib.rcParams['axes.unicode_minus']= False\n",
    "\n",
    "\n",
    "def plot_decision_region(X, y, classifier, test_idx=None, resolution=0.02, title=''):\n",
    "    markers = ('s', 'x', 'o', '^', 'v')  # 점표시 모양 5개 정의\n",
    "    colors = ('r', 'b', 'lightgreen', 'gray', 'cyan')\n",
    "    cmap = ListedColormap(colors[:len(np.unique(y))])\n",
    "    #print('cmap : ', cmap.colors[0], cmap.colors[1], cmap.colors[2])\n",
    "\n",
    "    # decision surface 그리기\n",
    "    x1_min, x1_max = X[:, 0].min() - 1, X[:, 0].max() + 1\n",
    "    x2_min, x2_max = X[:, 0].min() - 1, X[:, 0].max() + 1\n",
    "    xx, yy = np.meshgrid(np.arange(x1_min, x1_max, resolution), \n",
    "                             np.arange(x2_min, x2_max, resolution))\n",
    "\n",
    "    # xx, yy를 ravel()를 이용해 1차원 배열로 만든 후 전치행렬로 변환하여 퍼셉트론 분류기의 \n",
    "    # predict()의 안자로 입력하여 계산된 예측값을 Z로 둔다.\n",
    "    Z = classifier.predict(np.array([xx.ravel(), yy.ravel()]).T)\n",
    "    Z = Z.reshape(xx.shape) #Z를 reshape()을 이용해 원래 배열 모양으로 복원한다.\n",
    "\n",
    "    # X를 xx, yy가 축인 그래프상에 cmap을 이용해 등고선을 그림\n",
    "    plt.contourf(xx, yy, Z, alpha=0.5, cmap=cmap)\n",
    "    plt.xlim(xx.min(), xx.max())\n",
    "    plt.ylim(yy.min(), yy.max())\n",
    "\n",
    "\n",
    "    X_test = X[test_idx, :]\n",
    "    for idx, cl in enumerate(np.unique(y)):\n",
    "        plt.scatter(x=X[y==cl, 0], y=X[y==cl, 1], c=cmap(idx), \n",
    "                    marker=markers[idx], label=cl)\n",
    "\n",
    "    if test_idx:\n",
    "        X_test = X[test_idx, :]\n",
    "        plt.scatter(X_test[:, 0], X_test[:, 1], c='', linewidth=1, \n",
    "                    marker='o', s=80, label='testset')\n",
    "    \n",
    "    plt.xlabel('표준화된 꽃잎 길이')\n",
    "    plt.ylabel('표준화된 꽃잎 너비')\n",
    "    plt.legend(loc=2)\n",
    "    plt.title(title)\n",
    "    plt.show()\n",
    "\n",
    "x_combined_std = np.vstack((x_train_std, x_test_std))\n",
    "y_combined = np.hstack((y_train, y_test))\n",
    "plot_decision_region(X=x_combined_std, y=y_combined, classifier=ml, \n",
    "                    test_idx=range(105, 150), title='scikit-learn제공') "
   ]
  },
  {
   "cell_type": "code",
   "execution_count": 6,
   "metadata": {},
   "outputs": [
    {
     "name": "stdout",
     "output_type": "stream",
     "text": [
      "[[5.1 2.2]\n",
      " [2.  1. ]\n",
      " [4.4 0.2]]\n",
      "[[ 0.70793846  1.25155848]\n",
      " [-1.01815868 -0.29145882]\n",
      " [ 0.31817459 -1.32013702]]\n",
      "[2 0 1]\n"
     ]
    }
   ],
   "source": [
    "import numpy as np\n",
    "new_data = np.array([[5.1, 2.2], [2., 1.], [4.4, 0.2]])\n",
    "print(new_data)\n",
    "new_test_std = sc.transform(new_data)\n",
    "print(new_test_std)\n",
    "new_pred = ml.predict(new_test_std)\n",
    "print(new_pred)"
   ]
  },
  {
   "cell_type": "code",
   "execution_count": null,
   "metadata": {},
   "outputs": [],
   "source": []
  }
 ],
 "metadata": {
  "kernelspec": {
   "display_name": "Python 3",
   "language": "python",
   "name": "python3"
  },
  "language_info": {
   "codemirror_mode": {
    "name": "ipython",
    "version": 3
   },
   "file_extension": ".py",
   "mimetype": "text/x-python",
   "name": "python",
   "nbconvert_exporter": "python",
   "pygments_lexer": "ipython3",
   "version": "3.6.6"
  }
 },
 "nbformat": 4,
 "nbformat_minor": 2
}
